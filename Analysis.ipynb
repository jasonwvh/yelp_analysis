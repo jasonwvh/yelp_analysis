{
 "cells": [
  {
   "cell_type": "code",
   "execution_count": 2,
   "metadata": {},
   "outputs": [],
   "source": [
    "import pyspark\n",
    "from pyspark.sql import SparkSession\n",
    "from pyspark.sql.functions import udf\n",
    "from pyspark.sql.types import *\n",
    "from afinn import Afinn"
   ]
  },
  {
   "cell_type": "code",
   "execution_count": 3,
   "metadata": {},
   "outputs": [],
   "source": [
    "spark = SparkSession.builder.getOrCreate()"
   ]
  },
  {
   "cell_type": "code",
   "execution_count": 44,
   "metadata": {},
   "outputs": [],
   "source": [
    "# Loading JSON files into Spark DataFrames\n",
    "businessDF = spark.read.json(\"yelp_academic_dataset_business.json\")\n",
    "reviewDF = spark.read.json(\"yelp_academic_dataset_review.json\")"
   ]
  },
  {
   "cell_type": "code",
   "execution_count": 82,
   "metadata": {},
   "outputs": [],
   "source": [
    "restaurantsDF = businessDF.filter(businessDF.categories.contains('Restaurants')).selectExpr('business_id', \"stars as b_stars\", 'is_open', 'name', 'city', 'state', 'review_count')\n",
    "\n",
    "restaurants_reviewDF = reviewDF.join(restaurantsDF, 'business_id', 'inner').select('business_id', 'review_id', 'stars', 'useful', 'cool', 'funny')"
   ]
  },
  {
   "cell_type": "code",
   "execution_count": 56,
   "metadata": {},
   "outputs": [],
   "source": [
    "# Register template so we can use SQL for queries\n",
    "restaurantsDF.registerTempTable(\"restaurants\")\n",
    "restaurants_reviewDF.registerTempTable(\"reviews\")"
   ]
  },
  {
   "cell_type": "code",
   "execution_count": 57,
   "metadata": {},
   "outputs": [
    {
     "name": "stdout",
     "output_type": "stream",
     "text": [
      "Total restaurants:  63944\n"
     ]
    }
   ],
   "source": [
    "# Number of restaurants in the dataset\n",
    "total_restaurants = restaurantsDF.select('business_id').distinct().count()\n",
    "print(\"Total restaurants: \", total_restaurants)"
   ]
  },
  {
   "cell_type": "code",
   "execution_count": 58,
   "metadata": {},
   "outputs": [
    {
     "name": "stdout",
     "output_type": "stream",
     "text": [
      "Total reviews:  5055992\n"
     ]
    }
   ],
   "source": [
    "# Number of reviews in the dataset\n",
    "total_reviews = restaurants_reviewDF.select('review_id').distinct().count()\n",
    "print(\"Total reviews: \", total_reviews)"
   ]
  },
  {
   "cell_type": "code",
   "execution_count": 60,
   "metadata": {},
   "outputs": [
    {
     "name": "stdout",
     "output_type": "stream",
     "text": [
      "+-----+-----------+-------------+\n",
      "|state|       city|total_reviews|\n",
      "+-----+-----------+-------------+\n",
      "|   ON|    Toronto|         8678|\n",
      "|   NV|  Las Vegas|         6930|\n",
      "|   AZ|    Phoenix|         4216|\n",
      "|   QC|   Montréal|         4097|\n",
      "|   AB|    Calgary|         3115|\n",
      "|   NC|  Charlotte|         2920|\n",
      "|   PA| Pittsburgh|         2608|\n",
      "|   AZ| Scottsdale|         1652|\n",
      "|   ON|Mississauga|         1612|\n",
      "|   OH|  Cleveland|         1549|\n",
      "+-----+-----------+-------------+\n",
      "only showing top 10 rows\n",
      "\n"
     ]
    }
   ],
   "source": [
    "# Show the top 10 cities with the most reviews in SQL\n",
    "spark.sql(\" SELECT \\\n",
    "                state, \\\n",
    "                city, \\\n",
    "                COUNT(*) AS total_reviews \\\n",
    "            FROM \\\n",
    "                restaurants \\\n",
    "            GROUP BY \\\n",
    "                state, \\\n",
    "                city \\\n",
    "            ORDER BY \\\n",
    "                COUNT(*) DESC \").show(10)"
   ]
  },
  {
   "cell_type": "code",
   "execution_count": 66,
   "metadata": {},
   "outputs": [
    {
     "name": "stdout",
     "output_type": "stream",
     "text": [
      "+----------------------+-------+-----------------------------+---------+-----+------------+-----+\n",
      "|business_id           |b_stars|name                         |city     |state|review_count|count|\n",
      "+----------------------+-------+-----------------------------+---------+-----+------------+-----+\n",
      "|4JNXUYY8wbaaDmk3BPzlWw|4.0    |Mon Ami Gabi                 |Las Vegas|NV   |9264        |4501 |\n",
      "|RESDUcs7fIiihp38-d6_6g|4.0    |Bacchanal Buffet             |Las Vegas|NV   |10129       |4247 |\n",
      "|faPVqws-x-5k2CQKDNtHxw|4.5    |Yardbird Southern Table & Bar|Las Vegas|NV   |4828        |3415 |\n",
      "+----------------------+-------+-----------------------------+---------+-----+------------+-----+\n",
      "only showing top 3 rows\n",
      "\n"
     ]
    }
   ],
   "source": [
    "# Show restaurants with most 5-star reviews\n",
    "reviews_5stars = restaurants_reviewDF.filter('stars >= 5')\n",
    "reviews_grouped = reviews_5stars.groupby('business_id').count()\n",
    "\n",
    "restaurants_joined = restaurantsDF.join(reviews_grouped, 'business_id', 'inner')\n",
    "restaurants_sorted = restaurants_joined.sort('count', ascending=False)\n",
    "\n",
    "restaurants_sorted.show(3, truncate=False)"
   ]
  },
  {
   "cell_type": "code",
   "execution_count": 67,
   "metadata": {},
   "outputs": [],
   "source": [
    "# Storing top 3 businesses ID\n",
    "monamiID = '4JNXUYY8wbaaDmk3BPzlWw'\n",
    "bacchanalID = 'RESDUcs7fIiihp38-d6_6g'\n",
    "yardbirdID = 'faPVqws-x-5k2CQKDNtHxw'"
   ]
  },
  {
   "cell_type": "code",
   "execution_count": 69,
   "metadata": {},
   "outputs": [
    {
     "name": "stdout",
     "output_type": "stream",
     "text": [
      "+--------------------+--------------------+--------------------+---------+\n",
      "|           review_id|         business_id|                text|sentiment|\n",
      "+--------------------+--------------------+--------------------+---------+\n",
      "|xQY8N_XvtGbearJ5X...|-MhfebM0QIsKt87iD...|As someone who ha...|     23.0|\n",
      "|UmFMZ8PyXZTY2Qcwz...|lbrU8StCq3yDfr-QM...|I am actually hor...|    -11.0|\n",
      "|LG2ZaYiOgpr2DK_90...|HQl28KMwrEKHqhFrr...|I love Deagan's. ...|     16.0|\n",
      "|i6g_oA9Yf9Y31qt0w...|5JxlZaqCnk1MnbgRi...|Dismal, lukewarm,...|     -7.0|\n",
      "|6TdNDKywdbjoTkize...|IS4cv902ykd8wj1TR...|Oh happy day, fin...|     24.0|\n",
      "|L2O_INwlrRuoX05KS...|nlxHRv1zXGT0c0K51...|This is definitel...|      7.0|\n",
      "|ZayJ1zWyWgY9S_TRL...|Pthe4qk5xh4n-ef-9...|Really good place...|     15.0|\n",
      "|lpFIJYpsvDxyph-kP...|FNCJpSn0tL9iqoY3J...|Awesome office an...|     12.0|\n",
      "|JA-xnyHytKiOIHl_z...|e_BiI4ej1CW1F0EyV...|Most delicious au...|      5.0|\n",
      "|z4BCgTkfNtCu4XY5L...|Ws8V970-mQt2X9CwC...|I have been here ...|     15.0|\n",
      "+--------------------+--------------------+--------------------+---------+\n",
      "only showing top 10 rows\n",
      "\n"
     ]
    }
   ],
   "source": [
    "## Hypothesis 1: Good businesses have more positive sentiment from reviews\n",
    "afinn = Afinn()\n",
    "afinnUDF = udf(afinn.score, FloatType())\n",
    "\n",
    "review_selected = reviewDF.select('review_id', 'business_id', 'text')\n",
    "review_sentiment = review_selected.withColumn('sentiment', afinnUDF('text'))\n",
    "review_sentiment.show(10)"
   ]
  },
  {
   "cell_type": "code",
   "execution_count": 8,
   "metadata": {},
   "outputs": [],
   "source": [
    "# Register template so we may use SQL\n",
    "review_sentiment.registerTempTable(\"review_sentiment\")"
   ]
  },
  {
   "cell_type": "code",
   "execution_count": 70,
   "metadata": {},
   "outputs": [
    {
     "name": "stdout",
     "output_type": "stream",
     "text": [
      "+--------------------+---------+\n",
      "|           review_id|sentiment|\n",
      "+--------------------+---------+\n",
      "|xQY8N_XvtGbearJ5X...|     23.0|\n",
      "|UmFMZ8PyXZTY2Qcwz...|    -11.0|\n",
      "|LG2ZaYiOgpr2DK_90...|     16.0|\n",
      "|i6g_oA9Yf9Y31qt0w...|     -7.0|\n",
      "|6TdNDKywdbjoTkize...|     24.0|\n",
      "|L2O_INwlrRuoX05KS...|      7.0|\n",
      "|ZayJ1zWyWgY9S_TRL...|     15.0|\n",
      "|lpFIJYpsvDxyph-kP...|     12.0|\n",
      "|JA-xnyHytKiOIHl_z...|      5.0|\n",
      "|z4BCgTkfNtCu4XY5L...|     15.0|\n",
      "|TfVth7UNfgilv4J3e...|      8.0|\n",
      "|Tyx7AxYQfSRnBFUIX...|     32.0|\n",
      "|wJMjt5C2y1RKgY0Xb...|     14.0|\n",
      "|QCxPzh7cuxJrLd6A_...|     14.0|\n",
      "|qWHp2l2lysENZObh6...|     -2.0|\n",
      "|mjbs5CL4eMu4o6_Vt...|     -1.0|\n",
      "|bVTjZgRNq8Toxzvti...|     -4.0|\n",
      "|Ne_2CSfcKIqXHmv_K...|     18.0|\n",
      "|Hy-gUXQh3RVhE8FLH...|     -1.0|\n",
      "|UGErdm6bt48SXTVwJ...|     15.0|\n",
      "+--------------------+---------+\n",
      "only showing top 20 rows\n",
      "\n"
     ]
    }
   ],
   "source": [
    "# A little cleanup to reduce the size before calculating total average (not sure if necessary)\n",
    "sentiment_cleaned = review_sentiment.select('review_id', 'sentiment')\n",
    "sentiment_cleaned.show()"
   ]
  },
  {
   "cell_type": "code",
   "execution_count": 80,
   "metadata": {},
   "outputs": [
    {
     "name": "stdout",
     "output_type": "stream",
     "text": [
      "+------------------+\n",
      "|    avg(sentiment)|\n",
      "+------------------+\n",
      "|10.036476817083695|\n",
      "+------------------+\n",
      "\n"
     ]
    }
   ],
   "source": [
    "# Calculate average sentiment of all restaurants\n",
    "# VERY SLOW\n",
    "sentiment_avg = sentiment_cleaned.agg({'sentiment': 'avg'})\n",
    "sentiment_avg.show()"
   ]
  },
  {
   "cell_type": "code",
   "execution_count": 72,
   "metadata": {},
   "outputs": [
    {
     "name": "stdout",
     "output_type": "stream",
     "text": [
      "+------------------+\n",
      "|    avg(sentiment)|\n",
      "+------------------+\n",
      "|12.718441009887684|\n",
      "+------------------+\n",
      "\n"
     ]
    }
   ],
   "source": [
    "# 1.1 Bacchanal Buffet\n",
    "bacchanal_reviews_sentiment = review_sentiment.filter(review_sentiment['business_id'] == bacchanalID)\n",
    "bacchanal_sentiment_avg = bacchanal_reviews_sentiment.agg({'sentiment': 'avg'})\n",
    "bacchanal_sentiment_avg.show()"
   ]
  },
  {
   "cell_type": "code",
   "execution_count": 16,
   "metadata": {},
   "outputs": [
    {
     "name": "stdout",
     "output_type": "stream",
     "text": [
      "+------------------+\n",
      "|    avg(sentiment)|\n",
      "+------------------+\n",
      "|15.043414429530202|\n",
      "+------------------+\n",
      "\n"
     ]
    }
   ],
   "source": [
    "# 1.2 Mon Ami Gabi\n",
    "monami_reviews_sentiment = review_sentiment.filter(review_sentiment['business_id'] == monamiID)\n",
    "monami_sentiment_avg = monami_reviews_sentiment.agg({'sentiment': 'avg'})\n",
    "monami_sentiment_avg.show()"
   ]
  },
  {
   "cell_type": "code",
   "execution_count": 73,
   "metadata": {},
   "outputs": [
    {
     "name": "stdout",
     "output_type": "stream",
     "text": [
      "+------------------+\n",
      "|    avg(sentiment)|\n",
      "+------------------+\n",
      "|16.034745932918256|\n",
      "+------------------+\n",
      "\n"
     ]
    }
   ],
   "source": [
    "# 1.3 Yardbird Southern Table\n",
    "yardbird_reviews_sentiment = review_sentiment.filter(review_sentiment['business_id'] == yardbirdID)\n",
    "yardbird_sentiment_avg = yardbird_reviews_sentiment.agg({'sentiment': 'avg'})\n",
    "yardbird_sentiment_avg.show()"
   ]
  },
  {
   "cell_type": "code",
   "execution_count": 75,
   "metadata": {},
   "outputs": [
    {
     "name": "stdout",
     "output_type": "stream",
     "text": [
      "+------------------+------------------+------------------+\n",
      "|         avg(cool)|       avg(useful)|        avg(funny)|\n",
      "+------------------+------------------+------------------+\n",
      "|0.5745620126461111|1.3228823847835751|0.4596423044057926|\n",
      "+------------------+------------------+------------------+\n",
      "\n"
     ]
    }
   ],
   "source": [
    "# Hypothesis 2: Good businesses have more Useful, Funny, and Cool reviews.\n",
    "votes_avg = reviewDF.select('business_id', 'review_id', 'useful', 'funny', 'cool')\n",
    "votes_agg = votes_avg.agg({'useful': 'avg', 'funny': 'avg', 'cool': 'avg'})\n",
    "votes_agg.show()"
   ]
  },
  {
   "cell_type": "code",
   "execution_count": 76,
   "metadata": {},
   "outputs": [
    {
     "name": "stdout",
     "output_type": "stream",
     "text": [
      "+-----------------+-----------------+------------------+\n",
      "|        avg(cool)|      avg(useful)|        avg(funny)|\n",
      "+-----------------+-----------------+------------------+\n",
      "|0.759719688969953|1.419602572717673|0.6408754919842565|\n",
      "+-----------------+-----------------+------------------+\n",
      "\n"
     ]
    }
   ],
   "source": [
    "# 2.1 Bacchanal Buffet\n",
    "bucchanal_filtered = reviewDF.filter(reviewDF['business_id'] == bacchanalID)\n",
    "bucchanal_selected = bucchanal_filtered.select('business_id', 'review_id', 'useful', 'funny', 'cool')\n",
    "bucchanal_agg = bucchanal_selected.agg({'useful': 'avg', 'funny': 'avg', 'cool': 'avg'})\n",
    "bucchanal_agg.show()"
   ]
  },
  {
   "cell_type": "code",
   "execution_count": 77,
   "metadata": {},
   "outputs": [
    {
     "name": "stdout",
     "output_type": "stream",
     "text": [
      "+------------------+------------------+------------------+\n",
      "|         avg(cool)|       avg(useful)|        avg(funny)|\n",
      "+------------------+------------------+------------------+\n",
      "|0.5479236577181208|0.7775796979865772|0.3859060402684564|\n",
      "+------------------+------------------+------------------+\n",
      "\n"
     ]
    }
   ],
   "source": [
    "# 2.2 Mon Ami Gabi\n",
    "monami_filtered = reviewDF.filter(reviewDF['business_id'] == monamiID)\n",
    "monami_selected = monami_filtered.select('business_id', 'review_id', 'useful', 'funny', 'cool')\n",
    "monami_agg = monami_selected.agg({'useful': 'avg', 'funny': 'avg', 'cool': 'avg'})\n",
    "monami_agg.show()"
   ]
  },
  {
   "cell_type": "code",
   "execution_count": 78,
   "metadata": {},
   "outputs": [
    {
     "name": "stdout",
     "output_type": "stream",
     "text": [
      "+------------------+------------------+------------------+\n",
      "|         avg(cool)|       avg(useful)|        avg(funny)|\n",
      "+------------------+------------------+------------------+\n",
      "|0.6519381401887929|0.8567985539264913|0.4081140791323559|\n",
      "+------------------+------------------+------------------+\n",
      "\n"
     ]
    }
   ],
   "source": [
    "# 2.3 Yardbird Southern Table\n",
    "yardbird_filtered = reviewDF.filter(reviewDF['business_id'] == yardbirdID)\n",
    "yardbird_selected = yardbird_filtered.select('business_id', 'review_id', 'useful', 'funny', 'cool')\n",
    "yardbird_agg = yardbird_selected.agg({'useful': 'avg', 'funny': 'avg', 'cool': 'avg'})\n",
    "yardbird_agg.show()"
   ]
  },
  {
   "cell_type": "code",
   "execution_count": 130,
   "metadata": {},
   "outputs": [
    {
     "ename": "NameError",
     "evalue": "name 'GeoPointsChart' is not defined",
     "output_type": "error",
     "traceback": [
      "\u001b[1;31m---------------------------------------------------------------------------\u001b[0m",
      "\u001b[1;31mNameError\u001b[0m                                 Traceback (most recent call last)",
      "\u001b[1;32m<ipython-input-130-d394c58f3c7b>\u001b[0m in \u001b[0;36m<module>\u001b[1;34m\u001b[0m\n\u001b[1;32m----> 1\u001b[1;33m \u001b[0mGeoPointsChart\u001b[0m\u001b[1;33m(\u001b[0m\u001b[1;33m)\u001b[0m\u001b[1;33m\u001b[0m\u001b[1;33m\u001b[0m\u001b[0m\n\u001b[0m",
      "\u001b[1;31mNameError\u001b[0m: name 'GeoPointsChart' is not defined"
     ]
    }
   ],
   "source": [
    "GeoPointsChart()"
   ]
  }
 ],
 "metadata": {
  "kernelspec": {
   "display_name": "Python 3",
   "language": "python",
   "name": "python3"
  },
  "language_info": {
   "codemirror_mode": {
    "name": "ipython",
    "version": 3
   },
   "file_extension": ".py",
   "mimetype": "text/x-python",
   "name": "python",
   "nbconvert_exporter": "python",
   "pygments_lexer": "ipython3",
   "version": "3.8.2"
  }
 },
 "nbformat": 4,
 "nbformat_minor": 4
}
